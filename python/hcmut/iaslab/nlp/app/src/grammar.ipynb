{
 "cells": [
  {
   "cell_type": "code",
   "execution_count": 1,
   "metadata": {},
   "outputs": [
    {
     "ename": "FileNotFoundError",
     "evalue": "[Errno 2] No such file or directory: 'C:/Users/atom0/OneDrive/Documents/GitHub/python/NLP/Customer-Service-NLP/data/grammar.xlsx'",
     "output_type": "error",
     "traceback": [
      "\u001b[1;31m---------------------------------------------------------------------------\u001b[0m",
      "\u001b[1;31mFileNotFoundError\u001b[0m                         Traceback (most recent call last)",
      "Cell \u001b[1;32mIn[1], line 2\u001b[0m\n\u001b[0;32m      1\u001b[0m \u001b[38;5;28;01mimport\u001b[39;00m \u001b[38;5;21;01mgrammar_rule\u001b[39;00m \u001b[38;5;28;01mas\u001b[39;00m \u001b[38;5;21;01mgr\u001b[39;00m \n\u001b[1;32m----> 2\u001b[0m \u001b[43mgr\u001b[49m\u001b[38;5;241;43m.\u001b[39;49m\u001b[43mprint_rules\u001b[49m\u001b[43m(\u001b[49m\u001b[43m)\u001b[49m\n",
      "File \u001b[1;32mc:\\Users\\atom0\\OneDrive\\Documents\\GitHub\\python\\NLP\\Customer-Service-NLP\\btl\\src\\grammar_rule.py:8\u001b[0m, in \u001b[0;36mprint_rules\u001b[1;34m()\u001b[0m\n\u001b[0;32m      6\u001b[0m input_file2 \u001b[38;5;241m=\u001b[39m \u001b[38;5;124mr\u001b[39m\u001b[38;5;124m'\u001b[39m\u001b[38;5;124mC:\u001b[39m\u001b[38;5;124m\\\u001b[39m\u001b[38;5;124mUsers\u001b[39m\u001b[38;5;124m\\\u001b[39m\u001b[38;5;124matom0\u001b[39m\u001b[38;5;124m\\\u001b[39m\u001b[38;5;124mOneDrive\u001b[39m\u001b[38;5;124m\\\u001b[39m\u001b[38;5;124mDocuments\u001b[39m\u001b[38;5;124m\\\u001b[39m\u001b[38;5;124mGitHub\u001b[39m\u001b[38;5;124m\\\u001b[39m\u001b[38;5;124mpython\u001b[39m\u001b[38;5;124m\\\u001b[39m\u001b[38;5;124mNLP\u001b[39m\u001b[38;5;124m\\\u001b[39m\u001b[38;5;124mCustomer-Service-NLP\u001b[39m\u001b[38;5;124m\\\u001b[39m\u001b[38;5;124mbtl\u001b[39m\u001b[38;5;124m\\\u001b[39m\u001b[38;5;124mdata\u001b[39m\u001b[38;5;124m\\\u001b[39m\u001b[38;5;124mlexicon.xlsx\u001b[39m\u001b[38;5;124m'\u001b[39m\n\u001b[0;32m      7\u001b[0m output_file \u001b[38;5;241m=\u001b[39m \u001b[38;5;124mr\u001b[39m\u001b[38;5;124m'\u001b[39m\u001b[38;5;124mC:\u001b[39m\u001b[38;5;124m\\\u001b[39m\u001b[38;5;124mUsers\u001b[39m\u001b[38;5;124m\\\u001b[39m\u001b[38;5;124matom0\u001b[39m\u001b[38;5;124m\\\u001b[39m\u001b[38;5;124mOneDrive\u001b[39m\u001b[38;5;124m\\\u001b[39m\u001b[38;5;124mDocuments\u001b[39m\u001b[38;5;124m\\\u001b[39m\u001b[38;5;124mGitHub\u001b[39m\u001b[38;5;124m\\\u001b[39m\u001b[38;5;124mpython\u001b[39m\u001b[38;5;124m\\\u001b[39m\u001b[38;5;124mNLP\u001b[39m\u001b[38;5;124m\\\u001b[39m\u001b[38;5;124mCustomer-Service-NLP\u001b[39m\u001b[38;5;124m\\\u001b[39m\u001b[38;5;124mbtl\u001b[39m\u001b[38;5;124m\\\u001b[39m\u001b[38;5;124moutput\u001b[39m\u001b[38;5;124m\\\u001b[39m\u001b[38;5;124mgrammar.txt\u001b[39m\u001b[38;5;124m'\u001b[39m\n\u001b[1;32m----> 8\u001b[0m \u001b[43mgenerate_grammar\u001b[49m\u001b[43m(\u001b[49m\u001b[43minput_file\u001b[49m\u001b[43m,\u001b[49m\u001b[43moutput_file\u001b[49m\u001b[43m)\u001b[49m\n\u001b[0;32m      9\u001b[0m generate_grammar(input_file2,output_file,append\u001b[38;5;241m=\u001b[39m\u001b[38;5;28;01mTrue\u001b[39;00m)\n",
      "File \u001b[1;32mc:\\Users\\atom0\\OneDrive\\Documents\\GitHub\\python\\NLP\\Customer-Service-NLP\\btl\\src\\grammar_rule.py:14\u001b[0m, in \u001b[0;36mgenerate_grammar\u001b[1;34m(input_file, output_file, append)\u001b[0m\n\u001b[0;32m     13\u001b[0m \u001b[38;5;28;01mdef\u001b[39;00m \u001b[38;5;21mgenerate_grammar\u001b[39m(input_file,output_file, append \u001b[38;5;241m=\u001b[39m \u001b[38;5;28;01mFalse\u001b[39;00m):\n\u001b[1;32m---> 14\u001b[0m     df \u001b[38;5;241m=\u001b[39m \u001b[43mpd\u001b[49m\u001b[38;5;241;43m.\u001b[39;49m\u001b[43mread_excel\u001b[49m\u001b[43m(\u001b[49m\u001b[43minput_file\u001b[49m\u001b[43m)\u001b[49m\n\u001b[0;32m     15\u001b[0m     df\u001b[38;5;241m.\u001b[39mfillna(\u001b[38;5;124m\"\u001b[39m\u001b[38;5;124m\"\u001b[39m)\n\u001b[0;32m     16\u001b[0m     rule_col \u001b[38;5;241m=\u001b[39m \u001b[38;5;124m'\u001b[39m\u001b[38;5;124mProduction Rule\u001b[39m\u001b[38;5;124m'\u001b[39m \u001b[38;5;28;01mif\u001b[39;00m \u001b[38;5;129;01mnot\u001b[39;00m append \u001b[38;5;28;01melse\u001b[39;00m \u001b[38;5;124m'\u001b[39m\u001b[38;5;124mTerminal\u001b[39m\u001b[38;5;124m'\u001b[39m\n",
      "File \u001b[1;32m~\\AppData\\Roaming\\Python\\Python311\\site-packages\\pandas\\io\\excel\\_base.py:495\u001b[0m, in \u001b[0;36mread_excel\u001b[1;34m(io, sheet_name, header, names, index_col, usecols, dtype, engine, converters, true_values, false_values, skiprows, nrows, na_values, keep_default_na, na_filter, verbose, parse_dates, date_parser, date_format, thousands, decimal, comment, skipfooter, storage_options, dtype_backend, engine_kwargs)\u001b[0m\n\u001b[0;32m    493\u001b[0m \u001b[38;5;28;01mif\u001b[39;00m \u001b[38;5;129;01mnot\u001b[39;00m \u001b[38;5;28misinstance\u001b[39m(io, ExcelFile):\n\u001b[0;32m    494\u001b[0m     should_close \u001b[38;5;241m=\u001b[39m \u001b[38;5;28;01mTrue\u001b[39;00m\n\u001b[1;32m--> 495\u001b[0m     io \u001b[38;5;241m=\u001b[39m \u001b[43mExcelFile\u001b[49m\u001b[43m(\u001b[49m\n\u001b[0;32m    496\u001b[0m \u001b[43m        \u001b[49m\u001b[43mio\u001b[49m\u001b[43m,\u001b[49m\n\u001b[0;32m    497\u001b[0m \u001b[43m        \u001b[49m\u001b[43mstorage_options\u001b[49m\u001b[38;5;241;43m=\u001b[39;49m\u001b[43mstorage_options\u001b[49m\u001b[43m,\u001b[49m\n\u001b[0;32m    498\u001b[0m \u001b[43m        \u001b[49m\u001b[43mengine\u001b[49m\u001b[38;5;241;43m=\u001b[39;49m\u001b[43mengine\u001b[49m\u001b[43m,\u001b[49m\n\u001b[0;32m    499\u001b[0m \u001b[43m        \u001b[49m\u001b[43mengine_kwargs\u001b[49m\u001b[38;5;241;43m=\u001b[39;49m\u001b[43mengine_kwargs\u001b[49m\u001b[43m,\u001b[49m\n\u001b[0;32m    500\u001b[0m \u001b[43m    \u001b[49m\u001b[43m)\u001b[49m\n\u001b[0;32m    501\u001b[0m \u001b[38;5;28;01melif\u001b[39;00m engine \u001b[38;5;129;01mand\u001b[39;00m engine \u001b[38;5;241m!=\u001b[39m io\u001b[38;5;241m.\u001b[39mengine:\n\u001b[0;32m    502\u001b[0m     \u001b[38;5;28;01mraise\u001b[39;00m \u001b[38;5;167;01mValueError\u001b[39;00m(\n\u001b[0;32m    503\u001b[0m         \u001b[38;5;124m\"\u001b[39m\u001b[38;5;124mEngine should not be specified when passing \u001b[39m\u001b[38;5;124m\"\u001b[39m\n\u001b[0;32m    504\u001b[0m         \u001b[38;5;124m\"\u001b[39m\u001b[38;5;124man ExcelFile - ExcelFile already has the engine set\u001b[39m\u001b[38;5;124m\"\u001b[39m\n\u001b[0;32m    505\u001b[0m     )\n",
      "File \u001b[1;32m~\\AppData\\Roaming\\Python\\Python311\\site-packages\\pandas\\io\\excel\\_base.py:1550\u001b[0m, in \u001b[0;36mExcelFile.__init__\u001b[1;34m(self, path_or_buffer, engine, storage_options, engine_kwargs)\u001b[0m\n\u001b[0;32m   1548\u001b[0m     ext \u001b[38;5;241m=\u001b[39m \u001b[38;5;124m\"\u001b[39m\u001b[38;5;124mxls\u001b[39m\u001b[38;5;124m\"\u001b[39m\n\u001b[0;32m   1549\u001b[0m \u001b[38;5;28;01melse\u001b[39;00m:\n\u001b[1;32m-> 1550\u001b[0m     ext \u001b[38;5;241m=\u001b[39m \u001b[43minspect_excel_format\u001b[49m\u001b[43m(\u001b[49m\n\u001b[0;32m   1551\u001b[0m \u001b[43m        \u001b[49m\u001b[43mcontent_or_path\u001b[49m\u001b[38;5;241;43m=\u001b[39;49m\u001b[43mpath_or_buffer\u001b[49m\u001b[43m,\u001b[49m\u001b[43m \u001b[49m\u001b[43mstorage_options\u001b[49m\u001b[38;5;241;43m=\u001b[39;49m\u001b[43mstorage_options\u001b[49m\n\u001b[0;32m   1552\u001b[0m \u001b[43m    \u001b[49m\u001b[43m)\u001b[49m\n\u001b[0;32m   1553\u001b[0m     \u001b[38;5;28;01mif\u001b[39;00m ext \u001b[38;5;129;01mis\u001b[39;00m \u001b[38;5;28;01mNone\u001b[39;00m:\n\u001b[0;32m   1554\u001b[0m         \u001b[38;5;28;01mraise\u001b[39;00m \u001b[38;5;167;01mValueError\u001b[39;00m(\n\u001b[0;32m   1555\u001b[0m             \u001b[38;5;124m\"\u001b[39m\u001b[38;5;124mExcel file format cannot be determined, you must specify \u001b[39m\u001b[38;5;124m\"\u001b[39m\n\u001b[0;32m   1556\u001b[0m             \u001b[38;5;124m\"\u001b[39m\u001b[38;5;124man engine manually.\u001b[39m\u001b[38;5;124m\"\u001b[39m\n\u001b[0;32m   1557\u001b[0m         )\n",
      "File \u001b[1;32m~\\AppData\\Roaming\\Python\\Python311\\site-packages\\pandas\\io\\excel\\_base.py:1402\u001b[0m, in \u001b[0;36minspect_excel_format\u001b[1;34m(content_or_path, storage_options)\u001b[0m\n\u001b[0;32m   1399\u001b[0m \u001b[38;5;28;01mif\u001b[39;00m \u001b[38;5;28misinstance\u001b[39m(content_or_path, \u001b[38;5;28mbytes\u001b[39m):\n\u001b[0;32m   1400\u001b[0m     content_or_path \u001b[38;5;241m=\u001b[39m BytesIO(content_or_path)\n\u001b[1;32m-> 1402\u001b[0m \u001b[38;5;28;01mwith\u001b[39;00m \u001b[43mget_handle\u001b[49m\u001b[43m(\u001b[49m\n\u001b[0;32m   1403\u001b[0m \u001b[43m    \u001b[49m\u001b[43mcontent_or_path\u001b[49m\u001b[43m,\u001b[49m\u001b[43m \u001b[49m\u001b[38;5;124;43m\"\u001b[39;49m\u001b[38;5;124;43mrb\u001b[39;49m\u001b[38;5;124;43m\"\u001b[39;49m\u001b[43m,\u001b[49m\u001b[43m \u001b[49m\u001b[43mstorage_options\u001b[49m\u001b[38;5;241;43m=\u001b[39;49m\u001b[43mstorage_options\u001b[49m\u001b[43m,\u001b[49m\u001b[43m \u001b[49m\u001b[43mis_text\u001b[49m\u001b[38;5;241;43m=\u001b[39;49m\u001b[38;5;28;43;01mFalse\u001b[39;49;00m\n\u001b[0;32m   1404\u001b[0m \u001b[43m\u001b[49m\u001b[43m)\u001b[49m \u001b[38;5;28;01mas\u001b[39;00m handle:\n\u001b[0;32m   1405\u001b[0m     stream \u001b[38;5;241m=\u001b[39m handle\u001b[38;5;241m.\u001b[39mhandle\n\u001b[0;32m   1406\u001b[0m     stream\u001b[38;5;241m.\u001b[39mseek(\u001b[38;5;241m0\u001b[39m)\n",
      "File \u001b[1;32m~\\AppData\\Roaming\\Python\\Python311\\site-packages\\pandas\\io\\common.py:882\u001b[0m, in \u001b[0;36mget_handle\u001b[1;34m(path_or_buf, mode, encoding, compression, memory_map, is_text, errors, storage_options)\u001b[0m\n\u001b[0;32m    873\u001b[0m         handle \u001b[38;5;241m=\u001b[39m \u001b[38;5;28mopen\u001b[39m(\n\u001b[0;32m    874\u001b[0m             handle,\n\u001b[0;32m    875\u001b[0m             ioargs\u001b[38;5;241m.\u001b[39mmode,\n\u001b[1;32m   (...)\u001b[0m\n\u001b[0;32m    878\u001b[0m             newline\u001b[38;5;241m=\u001b[39m\u001b[38;5;124m\"\u001b[39m\u001b[38;5;124m\"\u001b[39m,\n\u001b[0;32m    879\u001b[0m         )\n\u001b[0;32m    880\u001b[0m     \u001b[38;5;28;01melse\u001b[39;00m:\n\u001b[0;32m    881\u001b[0m         \u001b[38;5;66;03m# Binary mode\u001b[39;00m\n\u001b[1;32m--> 882\u001b[0m         handle \u001b[38;5;241m=\u001b[39m \u001b[38;5;28;43mopen\u001b[39;49m\u001b[43m(\u001b[49m\u001b[43mhandle\u001b[49m\u001b[43m,\u001b[49m\u001b[43m \u001b[49m\u001b[43mioargs\u001b[49m\u001b[38;5;241;43m.\u001b[39;49m\u001b[43mmode\u001b[49m\u001b[43m)\u001b[49m\n\u001b[0;32m    883\u001b[0m     handles\u001b[38;5;241m.\u001b[39mappend(handle)\n\u001b[0;32m    885\u001b[0m \u001b[38;5;66;03m# Convert BytesIO or file objects passed with an encoding\u001b[39;00m\n",
      "\u001b[1;31mFileNotFoundError\u001b[0m: [Errno 2] No such file or directory: 'C:/Users/atom0/OneDrive/Documents/GitHub/python/NLP/Customer-Service-NLP/data/grammar.xlsx'"
     ]
    }
   ],
   "source": [
    "import grammar_rule as gr \n",
    "gr.print_rules()"
   ]
  },
  {
   "cell_type": "code",
   "execution_count": 2,
   "metadata": {},
   "outputs": [
    {
     "name": "stdout",
     "output_type": "stream",
     "text": [
      "Grammar with 82 productions (start state = S)\n",
      "    S -> NP_SING3 VP_SING3\n",
      "    S -> NP_NONSING VP_NONSING\n",
      "    S -> NP VP\n",
      "    S -> PRO_SING3 VP_SING3\n",
      "    S -> PRO_NONSING VP_NONSING\n",
      "    S_QUESTION -> AUX NP\n",
      "    S_QUESTION -> AUX_SING3 NP_SING3 VP\n",
      "    S_QUESTION -> AUX_NONSING NP_NONSING VP\n",
      "    S_QUESTION -> AUX PRO_SING3 VP\n",
      "    S_QUESTION -> AUX PRO_NONSING VP\n",
      "    S_QUESTION -> MODAL NP_SING3 VP\n",
      "    S_QUESTION -> MODAL NP_NONSING VP\n",
      "    S_QUESTION -> AUX NP_SING3 VP\n",
      "    S_QUESTION -> AUX NP_NONSING VP\n",
      "    ADJ -> ADV ADJ\n",
      "    NP_NONSING -> NP_NONSING PP\n",
      "    NP_NONSING -> NP_SING3 Conn NP_SING3\n",
      "    NP_NONSING -> NP_SING3 Conn NP_NONSING\n",
      "    NP_NONSING -> NP_NONSING Conn NP_SING3\n",
      "    NP_NONSING -> NP_NONSING Conn NP_NONSING\n",
      "    NP_NONSING -> DET_NONSING N_NONSING\n",
      "    NP_SING3 -> DET_SING3 N_SING3\n",
      "    NP_SING3 -> NP_SING3 PP\n",
      "    NP_SING3 -> PropN\n",
      "    N_NONSING -> ADJ N_NONSING\n",
      "    N_SING3 -> ADJ N_SING3\n",
      "    PP -> P NP\n",
      "    PP -> P NP_OBJ\n",
      "    VP -> V NP\n",
      "    VP -> V NP_OBJ\n",
      "    VP -> V_INTRANS\n",
      "    VP -> V_P PP\n",
      "    VP_NONSING -> V_NONSING NP\n",
      "    VP_NONSING -> V_NONSING NP_OBJ\n",
      "    VP_NONSING -> V_NONSING_INTRANS\n",
      "    VP_NONSING -> V_NONSING_P PP\n",
      "    VP_SING3 -> V_SING3 NP\n",
      "    VP_SING3 -> V_SING3 NP_OBJ\n",
      "    VP_SING3 -> V_SING3_INTRANS\n",
      "    VP_SING3 -> V_SING3_P PP\n",
      "    ADJ -> 'nice'\n",
      "    ADJ -> 'beautiful'\n",
      "    ADJ -> 'perplexed'\n",
      "    ADJ -> 'fine'\n",
      "    ADV -> 'very'\n",
      "    AUX -> 'did'\n",
      "    Comp -> 'that'\n",
      "    DET_NONSING -> 'the'\n",
      "    DET_SING3 -> 'the'\n",
      "    DET_SING3 -> 'a'\n",
      "    MODAL -> 'will'\n",
      "    MODAL -> 'can'\n",
      "    MODAL -> 'could'\n",
      "    N_NONSING -> 'dogs'\n",
      "    N_NONSING -> 'products'\n",
      "    N_NONSING -> 'clients'\n",
      "    N_NONSING -> 'cats'\n",
      "    N_SING3 -> 'customer'\n",
      "    N_SING3 -> 'dog'\n",
      "    N_SING3 -> 'cat'\n",
      "    N_SING3 -> 'client'\n",
      "    N_SING3 -> 'sandwich'\n",
      "    N_SING3 -> 'product'\n",
      "    N_SING3 -> 'apple'\n",
      "    P -> 'with'\n",
      "    P -> 'on'\n",
      "    P -> 'in'\n",
      "    P -> 'under'\n",
      "    P -> 'at'\n",
      "    PropN -> 'Sally'\n",
      "    PropN -> 'Bill'\n",
      "    PropN -> 'Thomas'\n",
      "    PropN -> 'Tom'\n",
      "    V -> 'helped'\n",
      "    V -> 'wanted'\n",
      "    V -> 'understood'\n",
      "    V -> 'picked'\n",
      "    V -> 'ran'\n",
      "    V -> 'cried'\n",
      "    V_INTRANS -> 'laughed'\n",
      "    V_INTRANS -> 'ate'\n",
      "    V_P -> 'worked'\n"
     ]
    },
    {
     "ename": "",
     "evalue": "",
     "output_type": "error",
     "traceback": [
      "\u001b[1;31mThe Kernel crashed while executing code in the current cell or a previous cell. \n",
      "\u001b[1;31mPlease review the code in the cell(s) to identify a possible cause of the failure. \n",
      "\u001b[1;31mClick <a href='https://aka.ms/vscodeJupyterKernelCrash'>here</a> for more info. \n",
      "\u001b[1;31mView Jupyter <a href='command:jupyter.viewOutput'>log</a> for further details."
     ]
    }
   ],
   "source": [
    "import nltk\n",
    "from nltk import CFG\n",
    "\n",
    "def load_grammar_nltk(grammar_file):\n",
    "    with open(grammar_file,'r') as f:\n",
    "        grammar_str = f.read().strip() \n",
    "        \n",
    "    return CFG.fromstring(grammar_str)\n",
    "    \n",
    "    \n",
    "grammar = load_grammar_nltk('../output/grammar.txt')\n",
    "# grammar_str = \"\"\"\n",
    "# S -> NP[AGR=?a] VP[AGR=?a]\n",
    "# NP[AGR=?a] -> ART[AGR=?a] ADJ[] N[AGR=?a]\n",
    "# VP[TENSE=?t] -> V[AGR=?a, TENSE=?t] NP[AGR=?a]\n",
    "# ART[AGR=[NUM='s', PER=3]] -> 'the' | 'a'\n",
    "# ADJ[] -> 'happy' | 'sad'\n",
    "# N[AGR=[NUM='s', PER=3]] -> 'dog' | 'cat'\n",
    "# V[AGR=[NUM='s', PER=3], TENSE='pres'] -> 'sees' | 'chases'\n",
    "# \"\"\"\n",
    "# grammar = FG.fromstring(grammar_str)\n",
    "print(grammar)\n"
   ]
  },
  {
   "cell_type": "code",
   "execution_count": null,
   "metadata": {},
   "outputs": [],
   "source": [
    "from nltk.parse.generate import generate\n",
    "import random\n",
    "# start = random.choice(['S])\n",
    "for sent in generate(grammar, start =grammar.start(),n=10000):\n",
    "    print(' '.join(sent))"
   ]
  },
  {
   "cell_type": "code",
   "execution_count": 21,
   "metadata": {},
   "outputs": [
    {
     "name": "stdout",
     "output_type": "stream",
     "text": [
      "[[[['ART', 'ADJ', 'N'], ['ART', 'N'], ['ADJ', 'N'], ['PRO']], [['V'], ['V', [['ART', 'ADJ', 'N'], ['ART', 'N'], ['ADJ', 'N'], ['PRO']]], ['AUX', 'V'], ['V', [['ART', 'ADJ', 'N'], ['ART', 'N'], ['ADJ', 'N'], ['PRO']], [['TO', [['V', [['ART', 'ADJ', 'N'], ['ART', 'N'], ['ADJ', 'N'], ['PRO']]]]]]], ['V', [['ADJ'], ['ADJ', [['TO', [['V', [['ART', 'ADJ', 'N'], ['ART', 'N'], ['ADJ', 'N'], ['PRO']]]]]]]]]]]]\n"
     ]
    }
   ],
   "source": []
  },
  {
   "cell_type": "code",
   "execution_count": null,
   "metadata": {},
   "outputs": [],
   "source": []
  }
 ],
 "metadata": {
  "kernelspec": {
   "display_name": "Python 3",
   "language": "python",
   "name": "python3"
  },
  "language_info": {
   "codemirror_mode": {
    "name": "ipython",
    "version": 3
   },
   "file_extension": ".py",
   "mimetype": "text/x-python",
   "name": "python",
   "nbconvert_exporter": "python",
   "pygments_lexer": "ipython3",
   "version": "3.11.9"
  }
 },
 "nbformat": 4,
 "nbformat_minor": 2
}
